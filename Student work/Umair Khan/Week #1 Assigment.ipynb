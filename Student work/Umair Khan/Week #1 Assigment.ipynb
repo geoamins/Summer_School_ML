{
 "cells": [
  {
   "cell_type": "code",
   "execution_count": 4,
   "id": "22832d1c-911c-4940-b4e7-4d5361dcda5a",
   "metadata": {},
   "outputs": [
    {
     "data": {
      "text/plain": [
       "[1, 2, 3, 4, 5]"
      ]
     },
     "execution_count": 4,
     "metadata": {},
     "output_type": "execute_result"
    }
   ],
   "source": [
    "#Basic List Operations:\n",
    "list=[1,2,3,4,5]\n",
    "list"
   ]
  },
  {
   "cell_type": "code",
   "execution_count": 6,
   "id": "5f3faedc-873d-4a4a-a0ad-4671dbeb7fa8",
   "metadata": {},
   "outputs": [
    {
     "data": {
      "text/plain": [
       "[1, 2, 4, 5]"
      ]
     },
     "execution_count": 6,
     "metadata": {},
     "output_type": "execute_result"
    }
   ],
   "source": [
    "list.remove(3)\n",
    "list"
   ]
  },
  {
   "cell_type": "code",
   "execution_count": 12,
   "id": "19e5c32c-5a83-44f5-9af6-af5e9fd9a149",
   "metadata": {},
   "outputs": [
    {
     "name": "stdout",
     "output_type": "stream",
     "text": [
      "4 5\n"
     ]
    }
   ],
   "source": [
    "#Slicing And Indexing:\n",
    "list_ind=[10,20,30,40,50,60]\n",
    "print(4,5)"
   ]
  },
  {
   "cell_type": "code",
   "execution_count": 24,
   "id": "bf44af78-e831-4dc9-a8dd-8471f9b5f858",
   "metadata": {},
   "outputs": [
    {
     "data": {
      "text/plain": [
       "{'name': 'Syed Umair Shah', 'age': 22, 'city': 'peshawar'}"
      ]
     },
     "execution_count": 24,
     "metadata": {},
     "output_type": "execute_result"
    }
   ],
   "source": [
    "#Basic dicitonary operations:\n",
    "dict\n",
    "student={\"name\":\"Syed Umair Shah\",\"age\":22,\"city\":\"peshawar\"}\n",
    "student"
   ]
  },
  {
   "cell_type": "code",
   "execution_count": 26,
   "id": "d3a9cb1f-6659-42b9-a5ee-b241497eae0f",
   "metadata": {},
   "outputs": [
    {
     "data": {
      "text/plain": [
       "{'name': 'Syed Umair Shah',\n",
       " 'age': 22,\n",
       " 'city': 'peshawar',\n",
       " 'country': 'pakistan'}"
      ]
     },
     "execution_count": 26,
     "metadata": {},
     "output_type": "execute_result"
    }
   ],
   "source": [
    "student[\"country\"]=\"pakistan\"\n",
    "student"
   ]
  },
  {
   "cell_type": "code",
   "execution_count": 30,
   "id": "c1483bbb-4814-4832-b0e4-3d5da4177b53",
   "metadata": {},
   "outputs": [
    {
     "name": "stdout",
     "output_type": "stream",
     "text": [
      "Syed Umair Shah\n"
     ]
    }
   ],
   "source": [
    "#accessing and modefying values:\n",
    "print(student[\"name\"])"
   ]
  },
  {
   "cell_type": "code",
   "execution_count": 40,
   "id": "8db18807-0921-4498-a7ea-41943fd7aaa5",
   "metadata": {},
   "outputs": [
    {
     "data": {
      "text/plain": [
       "{'name': 'Syed Umair Shah',\n",
       " 'age': 22,\n",
       " 'city': 'nowshera',\n",
       " 'country': 'pakistan'}"
      ]
     },
     "execution_count": 40,
     "metadata": {},
     "output_type": "execute_result"
    }
   ],
   "source": [
    "student[\"city\"]=\"nowshera\"\n",
    "student"
   ]
  },
  {
   "cell_type": "code",
   "execution_count": 42,
   "id": "33eae3ac-1e53-41a8-b29d-cc408ec2b380",
   "metadata": {},
   "outputs": [
    {
     "data": {
      "text/plain": [
       "{1, 2, 3, 4, 5, 6}"
      ]
     },
     "execution_count": 42,
     "metadata": {},
     "output_type": "execute_result"
    }
   ],
   "source": [
    "#basic set operations:\n",
    "set={1,2,3,4,5,6}\n",
    "set"
   ]
  },
  {
   "cell_type": "code",
   "execution_count": 44,
   "id": "0bb1671c-ada0-4c20-8a8f-d39f6ee95658",
   "metadata": {},
   "outputs": [
    {
     "data": {
      "text/plain": [
       "{1, 2, 4, 5, 6}"
      ]
     },
     "execution_count": 44,
     "metadata": {},
     "output_type": "execute_result"
    }
   ],
   "source": [
    "set.remove(3)\n",
    "set"
   ]
  },
  {
   "cell_type": "code",
   "execution_count": 48,
   "id": "7b3d82a8-5964-46a9-9a2f-5fa17e0f853f",
   "metadata": {},
   "outputs": [
    {
     "data": {
      "text/plain": [
       "{1, 2, 3, 4, 5, 6}"
      ]
     },
     "execution_count": 48,
     "metadata": {},
     "output_type": "execute_result"
    }
   ],
   "source": [
    "#Set operations:\n",
    "a={1,2,3,4}\n",
    "b={3,4,5,6}\n",
    "union_set=a.union(b)\n",
    "union_set"
   ]
  },
  {
   "cell_type": "code",
   "execution_count": 50,
   "id": "a2a13778-1139-40a0-adff-aef1c5d8ea2b",
   "metadata": {},
   "outputs": [
    {
     "data": {
      "text/plain": [
       "{3, 4}"
      ]
     },
     "execution_count": 50,
     "metadata": {},
     "output_type": "execute_result"
    }
   ],
   "source": [
    "intersection_set=a.intersection(b)\n",
    "intersection_set"
   ]
  },
  {
   "cell_type": "code",
   "execution_count": 52,
   "id": "b88f7dae-73ce-4738-9ac7-2c7b05c33e07",
   "metadata": {},
   "outputs": [
    {
     "data": {
      "text/plain": [
       "(1, 2, 3, 4, 5)"
      ]
     },
     "execution_count": 52,
     "metadata": {},
     "output_type": "execute_result"
    }
   ],
   "source": [
    "#Tuples\n",
    "tup=(1,2,3,4,5)\n",
    "tup"
   ]
  },
  {
   "cell_type": "code",
   "execution_count": 54,
   "id": "9b8dfc13-3cac-4647-b223-99925ea2f427",
   "metadata": {},
   "outputs": [
    {
     "data": {
      "text/plain": [
       "('apple', 'bannana', 'cherry')"
      ]
     },
     "execution_count": 54,
     "metadata": {},
     "output_type": "execute_result"
    }
   ],
   "source": [
    "tup1=(\"apple\",\"bannana\",\"cherry\")\n",
    "tup1"
   ]
  },
  {
   "cell_type": "code",
   "execution_count": null,
   "id": "fd6c5b6d-e0e7-4b8e-a629-9417287d5d3b",
   "metadata": {},
   "outputs": [],
   "source": [
    "#No we can not chnage the values in tupple because it cannot be changed."
   ]
  },
  {
   "cell_type": "code",
   "execution_count": 51,
   "id": "80ec9102-3e32-4da2-a419-dc649961809e",
   "metadata": {},
   "outputs": [
    {
     "name": "stdout",
     "output_type": "stream",
     "text": [
      "odd\n"
     ]
    }
   ],
   "source": [
    "numbers=[1,2,3,4,5,6,7,8,9,10]\n",
    "if numbers == [2,4,6,8,10]:\n",
    "    print(\"even\")\n",
    "else:\n",
    "    print(\"odd\")"
   ]
  },
  {
   "cell_type": "code",
   "execution_count": 64,
   "id": "0b553980-a681-48d3-ba61-b338682c34ec",
   "metadata": {},
   "outputs": [
    {
     "name": "stdout",
     "output_type": "stream",
     "text": [
      "A\n"
     ]
    }
   ],
   "source": [
    "A=90\n",
    "B=80-89\n",
    "C=70-79\n",
    "D=61-69\n",
    "F=60\n",
    "\n",
    "if A==90:\n",
    "    print(\"A\")\n",
    "elif B==80-89:\n",
    "    print(\"B\")\n",
    "elif C==70-79:\n",
    "    print(\"D\")\n",
    "elif D==60-69:\n",
    "    print(\"D\")\n",
    "else:\n",
    "    print(\"F\")\n"
   ]
  }
 ],
 "metadata": {
  "kernelspec": {
   "display_name": "Python 3 (ipykernel)",
   "language": "python",
   "name": "python3"
  },
  "language_info": {
   "codemirror_mode": {
    "name": "ipython",
    "version": 3
   },
   "file_extension": ".py",
   "mimetype": "text/x-python",
   "name": "python",
   "nbconvert_exporter": "python",
   "pygments_lexer": "ipython3",
   "version": "3.12.4"
  }
 },
 "nbformat": 4,
 "nbformat_minor": 5
}
