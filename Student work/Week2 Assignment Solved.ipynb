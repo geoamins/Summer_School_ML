{
  "nbformat": 4,
  "nbformat_minor": 0,
  "metadata": {
    "colab": {
      "provenance": []
    },
    "kernelspec": {
      "name": "python3",
      "display_name": "Python 3"
    },
    "language_info": {
      "name": "python"
    }
  },
  "cells": [
    {
      "cell_type": "markdown",
      "source": [
        "# Task 1\n"
      ],
      "metadata": {
        "id": "mgKM0bn8Azdx"
      }
    },
    {
      "cell_type": "code",
      "source": [
        "import pandas as pd\n",
        "\n",
        "def process_data(data):\n",
        "\n",
        "  df = pd.DataFrame(data)\n",
        "  print(\"DataFrame:\")\n",
        "  print(df)\n",
        "  print(\"\\nFirst 3 rows:\")\n",
        "  print(df.head(3))\n",
        "  print(\"\\nLast 3 rows:\")\n",
        "  print(df.tail(3))\n",
        "\n",
        "data = {\n",
        "  'A': [1, 2, 3, 4, 5, 6],\n",
        "  'B': [7, 8, 9, 10, 11, 12],\n",
        "  'C': [13, 14, 15, 16, 17, 18]\n",
        "}\n",
        "\n",
        "process_data(data)"
      ],
      "metadata": {
        "colab": {
          "base_uri": "https://localhost:8080/"
        },
        "id": "566VEE08A3ez",
        "outputId": "13ec2763-a297-419e-c459-c696cd7c1f39"
      },
      "execution_count": 4,
      "outputs": [
        {
          "output_type": "stream",
          "name": "stdout",
          "text": [
            "DataFrame:\n",
            "   A   B   C\n",
            "0  1   7  13\n",
            "1  2   8  14\n",
            "2  3   9  15\n",
            "3  4  10  16\n",
            "4  5  11  17\n",
            "5  6  12  18\n",
            "\n",
            "First 3 rows:\n",
            "   A  B   C\n",
            "0  1  7  13\n",
            "1  2  8  14\n",
            "2  3  9  15\n",
            "\n",
            "Last 3 rows:\n",
            "   A   B   C\n",
            "3  4  10  16\n",
            "4  5  11  17\n",
            "5  6  12  18\n"
          ]
        }
      ]
    },
    {
      "cell_type": "markdown",
      "source": [
        "# Task 2"
      ],
      "metadata": {
        "id": "Og6jzd9zCGf0"
      }
    },
    {
      "cell_type": "code",
      "source": [
        "import numpy as np\n",
        "\n",
        "def process_array(array):\n",
        "\n",
        "  array_plus_50 = array + 50\n",
        "  print(\"Array after adding 50:\", array_plus_50)\n",
        "\n",
        "  array[3] = array[3] + 10\n",
        "  array[6] = array[6] + 15\n",
        "  array[8] = array[8] + 20\n",
        "  print(\"Array after adding elements:\", array)\n",
        "\n",
        "  shape = array.shape\n",
        "  print(\"Shape of the array:\", shape)\n",
        "\n",
        "array = np.array([1, 2, 3, 4, 5, 6, 7, 8, 9, 10])\n",
        "\n",
        "process_array(array)"
      ],
      "metadata": {
        "colab": {
          "base_uri": "https://localhost:8080/"
        },
        "id": "s-mO6Y_5CJis",
        "outputId": "b625c031-0cfe-4616-9291-715797de62b8"
      },
      "execution_count": 5,
      "outputs": [
        {
          "output_type": "stream",
          "name": "stdout",
          "text": [
            "Array after adding 50: [51 52 53 54 55 56 57 58 59 60]\n",
            "Array after adding elements: [ 1  2  3 14  5  6 22  8 29 10]\n",
            "Shape of the array: (10,)\n"
          ]
        }
      ]
    }
  ]
}