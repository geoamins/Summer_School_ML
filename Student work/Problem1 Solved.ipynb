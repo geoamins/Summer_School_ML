{
  "nbformat": 4,
  "nbformat_minor": 0,
  "metadata": {
    "colab": {
      "provenance": []
    },
    "kernelspec": {
      "name": "python3",
      "display_name": "Python 3"
    },
    "language_info": {
      "name": "python"
    }
  },
  "cells": [
    {
      "cell_type": "markdown",
      "source": [
        "# Basic List Operation"
      ],
      "metadata": {
        "id": "tnDcA37DNIc0"
      }
    },
    {
      "cell_type": "code",
      "source": [
        "list=[1,2,3,4,5]\n",
        "print(list)\n",
        "list.append(6)\n",
        "print (list)\n",
        "list.remove(4)\n",
        "print(list)"
      ],
      "metadata": {
        "colab": {
          "base_uri": "https://localhost:8080/"
        },
        "id": "QVJkE2dQNRc_",
        "outputId": "32f511bf-2e52-42f5-a767-741913df10d3"
      },
      "execution_count": 1,
      "outputs": [
        {
          "output_type": "stream",
          "name": "stdout",
          "text": [
            "[1, 2, 3, 4, 5]\n",
            "[1, 2, 3, 4, 5, 6]\n",
            "[1, 2, 3, 5, 6]\n"
          ]
        }
      ]
    },
    {
      "cell_type": "markdown",
      "source": [
        "# Slicing and Indexing"
      ],
      "metadata": {
        "id": "uy7bO00kNsow"
      }
    },
    {
      "cell_type": "code",
      "source": [
        "number=[10,25,30,44,50]\n",
        "print(number[2])"
      ],
      "metadata": {
        "colab": {
          "base_uri": "https://localhost:8080/"
        },
        "id": "qqk3nFnRN3p0",
        "outputId": "8300333d-c8b8-4080-914e-f3a73d021b10"
      },
      "execution_count": 5,
      "outputs": [
        {
          "output_type": "stream",
          "name": "stdout",
          "text": [
            "30\n"
          ]
        }
      ]
    },
    {
      "cell_type": "markdown",
      "source": [
        "# Dictionary\n"
      ],
      "metadata": {
        "id": "yygvUlOgQhRD"
      }
    },
    {
      "cell_type": "code",
      "source": [
        "info ={\n",
        "    \"name\":\"Azhar\",\n",
        "    \"age\":23,\n",
        "    \"city\":\"London\"}\n",
        "print(info)\n",
        "info[\"country\"]=\"UK\"\n",
        "print(info)"
      ],
      "metadata": {
        "colab": {
          "base_uri": "https://localhost:8080/"
        },
        "id": "3GP9YzStQo-C",
        "outputId": "67c0165a-bf02-4bde-dcad-2e9f59072e08"
      },
      "execution_count": 15,
      "outputs": [
        {
          "output_type": "stream",
          "name": "stdout",
          "text": [
            "{'name': 'Azhar', 'age': 23, 'city': 'London'}\n",
            "{'name': 'Azhar', 'age': 23, 'city': 'London', 'country': 'UK'}\n"
          ]
        }
      ]
    },
    {
      "cell_type": "markdown",
      "source": [
        "# Accessing and Modifying"
      ],
      "metadata": {
        "id": "W9L2qEwFRC51"
      }
    },
    {
      "cell_type": "code",
      "source": [
        "print(info[\"age\"])\n",
        "info[\"age\"]=25\n",
        "print(info[\"age\"])"
      ],
      "metadata": {
        "colab": {
          "base_uri": "https://localhost:8080/"
        },
        "id": "PozR2M8HRHWh",
        "outputId": "dfc19e02-b94d-454b-8d2f-e08976632660"
      },
      "execution_count": 16,
      "outputs": [
        {
          "output_type": "stream",
          "name": "stdout",
          "text": [
            "23\n",
            "25\n"
          ]
        }
      ]
    },
    {
      "cell_type": "markdown",
      "source": [
        "# Basic Set Operations"
      ],
      "metadata": {
        "id": "kEOhHxA3SU-X"
      }
    },
    {
      "cell_type": "code",
      "source": [
        "number={1,2,3,4,5}\n",
        "print(number)\n",
        "number.add(6)\n",
        "print(number)\n",
        "number.remove(3)\n",
        "print(number)"
      ],
      "metadata": {
        "colab": {
          "base_uri": "https://localhost:8080/"
        },
        "id": "P9jWbS7bSYjY",
        "outputId": "8d15e9ea-c2c3-4e12-be1c-4b408abb9c53"
      },
      "execution_count": 20,
      "outputs": [
        {
          "output_type": "stream",
          "name": "stdout",
          "text": [
            "{1, 2, 3, 4, 5}\n",
            "{1, 2, 3, 4, 5, 6}\n",
            "{1, 2, 4, 5, 6}\n"
          ]
        }
      ]
    },
    {
      "cell_type": "markdown",
      "source": [
        "# Set Operations\n"
      ],
      "metadata": {
        "id": "nzsPqCqaTCOg"
      }
    },
    {
      "cell_type": "code",
      "source": [
        "a={1,2,3}\n",
        "b={3,4,5}\n",
        "c=a|b\n",
        "print(c)\n",
        "c=a&b\n",
        "print(c)\n"
      ],
      "metadata": {
        "colab": {
          "base_uri": "https://localhost:8080/"
        },
        "id": "uofcrKKeTF3z",
        "outputId": "19e7bc04-7281-48d2-fafd-3963d8e1d356"
      },
      "execution_count": 21,
      "outputs": [
        {
          "output_type": "stream",
          "name": "stdout",
          "text": [
            "{1, 2, 3, 4, 5}\n",
            "{3}\n"
          ]
        }
      ]
    },
    {
      "cell_type": "markdown",
      "source": [
        "# Basic Tupil Operation"
      ],
      "metadata": {
        "id": "rFbHN-SPTrYg"
      }
    },
    {
      "cell_type": "code",
      "source": [
        "a=(1,2,3,4,5)\n",
        "print(a)"
      ],
      "metadata": {
        "colab": {
          "base_uri": "https://localhost:8080/"
        },
        "id": "ngP0yZYuTvWm",
        "outputId": "9406df69-8ed4-40ab-ffad-b013cb8154d0"
      },
      "execution_count": 23,
      "outputs": [
        {
          "output_type": "stream",
          "name": "stdout",
          "text": [
            "(1, 2, 3, 4, 5)\n"
          ]
        }
      ]
    },
    {
      "cell_type": "markdown",
      "source": [
        "Tuples are immutable in Python, meaning their elements cannot be changed, added, or removed after creation."
      ],
      "metadata": {
        "id": "0Lkr6anvT9JV"
      }
    },
    {
      "cell_type": "markdown",
      "source": [
        "# Tuple Unpacking"
      ],
      "metadata": {
        "id": "knH1vowmUYzl"
      }
    },
    {
      "cell_type": "code",
      "source": [
        "a=(10,20)\n",
        "x,y,=a\n",
        "print(x)\n",
        "print(y)"
      ],
      "metadata": {
        "colab": {
          "base_uri": "https://localhost:8080/"
        },
        "id": "61HK5h5rUgYL",
        "outputId": "e57ddd50-9d15-4901-8d48-ddab3e17da62"
      },
      "execution_count": 24,
      "outputs": [
        {
          "output_type": "stream",
          "name": "stdout",
          "text": [
            "10\n",
            "20\n"
          ]
        }
      ]
    },
    {
      "cell_type": "markdown",
      "source": [
        "# Basic IF, IF-Else and IF ELIF ELSE Statements\n"
      ],
      "metadata": {
        "id": "3S8aWd0pU-Wt"
      }
    },
    {
      "cell_type": "code",
      "source": [
        "a=0\n",
        "if a>=0:\n",
        "    print(\"the integer is positive\")"
      ],
      "metadata": {
        "colab": {
          "base_uri": "https://localhost:8080/"
        },
        "id": "tJ9jh4muVKgt",
        "outputId": "77eed1e5-d51e-41af-9d5a-79b5fac37588"
      },
      "execution_count": 25,
      "outputs": [
        {
          "output_type": "stream",
          "name": "stdout",
          "text": [
            "the integer is positive\n"
          ]
        }
      ]
    },
    {
      "cell_type": "code",
      "source": [
        "x=-1\n",
        "if x>=0:\n",
        "    print(\"the integer is positive\")\n",
        "else:\n",
        "    print(\"the integer is negative\")"
      ],
      "metadata": {
        "colab": {
          "base_uri": "https://localhost:8080/"
        },
        "id": "T_vlYPUeVPdu",
        "outputId": "6b57a962-5030-402d-f4bf-407831d9e8f5"
      },
      "execution_count": 28,
      "outputs": [
        {
          "output_type": "stream",
          "name": "stdout",
          "text": [
            "the integer is negative\n"
          ]
        }
      ]
    },
    {
      "cell_type": "code",
      "source": [
        "a=80\n",
        "if (a>=90):\n",
        "    print(\"you got A grade in the exam\")\n",
        "elif (a>=80 and a<=89):\n",
        "    print(\"you got B grade in the exam\")\n",
        "elif (a>=70 and a<=79):\n",
        "    print(\"you got C grade in the exam\")\n",
        "elif (a>=60 and a<=69):\n",
        "    print(\"you got D grade in the exam\")\n",
        "else:\n",
        "    print(\"you failed in the exam\")"
      ],
      "metadata": {
        "colab": {
          "base_uri": "https://localhost:8080/"
        },
        "id": "s7K7IqcFVyjI",
        "outputId": "230f92b8-1747-43a1-81a1-49bbcf1b1b34"
      },
      "execution_count": 29,
      "outputs": [
        {
          "output_type": "stream",
          "name": "stdout",
          "text": [
            "you got B grade in the exam\n"
          ]
        }
      ]
    }
  ]
}