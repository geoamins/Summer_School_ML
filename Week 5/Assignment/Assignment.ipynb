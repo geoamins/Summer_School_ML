{
 "cells": [
  {
   "cell_type": "markdown",
   "id": "4d4d0a7b",
   "metadata": {},
   "source": [
    "**Perform Bayesian classification on the following Data**"
   ]
  },
  {
   "cell_type": "code",
   "execution_count": 1,
   "id": "0182c735",
   "metadata": {},
   "outputs": [],
   "source": [
    "data = {\n",
    "    'Day of Week': ['Monday', 'Tuesday', 'Wednesday', 'Thursday', 'Friday', 'Saturday', 'Sunday', 'Monday', 'Tuesday', 'Wednesday', 'Thursday', 'Friday', 'Saturday', 'Sunday'],\n",
    "    'Weather': ['sunny', 'rainy', 'cloudy', 'sunny', 'sunny', 'rainy', 'cloudy', 'sunny', 'cloudy', 'rainy', 'sunny', 'cloudy', 'sunny', 'rainy'],\n",
    "    'Temperature': ['warm', 'cold', 'mild', 'warm', 'hot', 'cold', 'mild', 'hot', 'mild', 'cold', 'warm', 'mild', 'hot', 'cold'],\n",
    "    'Traffic': ['low', 'high', 'medium', 'low', 'low', 'high', 'medium', 'low', 'medium', 'high', 'low', 'medium', 'low', 'high'],\n",
    "    'Time of Day': ['morning', 'afternoon', 'evening', 'morning', 'afternoon', 'evening', 'morning', 'afternoon', 'evening', 'morning', 'afternoon', 'evening', 'morning', 'afternoon'],\n",
    "    'Road Condition': ['dry', 'wet', 'dry', 'dry', 'dry', 'wet', 'dry', 'dry', 'dry', 'wet', 'dry', 'dry', 'dry', 'wet'],\n",
    "    'Fuel Level': ['full', 'half', 'quarter', 'full', 'full', 'quarter', 'half', 'full', 'quarter', 'half', 'full', 'quarter', 'full', 'half'],\n",
    "    'Companions': ['none', 'friends', 'family', 'none', 'none', 'family', 'friends', 'none', 'friends', 'family', 'none', 'friends', 'none', 'family'],\n",
    "    'Distance': ['short', 'long', 'short', 'short', 'long', 'long', 'short', 'short', 'long', 'long', 'short', 'long', 'short', 'long'],\n",
    "    'Road Trip': ['yes', 'no', 'yes', 'yes', 'yes', 'no', 'yes', 'yes', 'no', 'no', 'yes', 'yes', 'yes', 'no']\n",
    "}"
   ]
  }
 ],
 "metadata": {
  "kernelspec": {
   "display_name": "Python 3 (ipykernel)",
   "language": "python",
   "name": "python3"
  },
  "language_info": {
   "codemirror_mode": {
    "name": "ipython",
    "version": 3
   },
   "file_extension": ".py",
   "mimetype": "text/x-python",
   "name": "python",
   "nbconvert_exporter": "python",
   "pygments_lexer": "ipython3",
   "version": "3.10.9"
  }
 },
 "nbformat": 4,
 "nbformat_minor": 5
}
