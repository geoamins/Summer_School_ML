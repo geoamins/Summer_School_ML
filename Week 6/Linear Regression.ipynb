{
 "cells": [
  {
   "cell_type": "markdown",
   "id": "89f69f58-6f96-4034-ba36-0a683ff7571a",
   "metadata": {
    "id": "89f69f58-6f96-4034-ba36-0a683ff7571a"
   },
   "source": [
    "**Importing Libraries**"
   ]
  },
  {
   "cell_type": "code",
   "execution_count": 1,
   "id": "c28e918f-b99d-49e5-b267-83e2b6bd12d2",
   "metadata": {
    "id": "c28e918f-b99d-49e5-b267-83e2b6bd12d2"
   },
   "outputs": [],
   "source": [
    "import numpy as np\n",
    "import pandas as pd\n",
    "from sklearn.model_selection import train_test_split\n",
    "from sklearn.linear_model import LinearRegression\n",
    "from sklearn.metrics import mean_squared_error\n",
    "\n"
   ]
  },
  {
   "cell_type": "markdown",
   "id": "784c3e8f-0249-4bc1-b23d-130161f90ee7",
   "metadata": {
    "id": "784c3e8f-0249-4bc1-b23d-130161f90ee7"
   },
   "source": [
    "*NumPy and Pandas are imported for numerical operations and data manipulation, respectively.\n",
    "\n",
    "The train_test_split function from Scikit-learn is imported to split the dataset into training and testing sets.\n",
    "\n",
    "The LinearRegression model from Scikit-learn is imported for linear regression.\n",
    "\n",
    "The mean_squared_error function from Scikit-learn is imported to evaluate the model's performance.\n",
    "\n",
    "The fetch_california_housing function from Scikit-learn is imported to load the California housing dataset.*"
   ]
  },
  {
   "cell_type": "markdown",
   "id": "ec295ae0-ec49-4bc9-ad8e-6dd2bd340adf",
   "metadata": {
    "id": "ec295ae0-ec49-4bc9-ad8e-6dd2bd340adf"
   },
   "source": [
    "**Loading the California Housing Dataset**"
   ]
  },
  {
   "cell_type": "code",
   "execution_count": 2,
   "id": "90f6a32e-f548-450f-9c01-8f771baf63cc",
   "metadata": {
    "id": "90f6a32e-f548-450f-9c01-8f771baf63cc"
   },
   "outputs": [],
   "source": [
    "from sklearn.datasets import fetch_california_housing\n",
    "\n",
    "\n",
    "# Fetch the California housing dataset\n",
    "california = fetch_california_housing()\n",
    "\n",
    "# Create a DataFrame for the feature data\n",
    "X = pd.DataFrame(california.data, columns=california.feature_names)\n",
    "\n",
    "# Create a Series for the target data\n",
    "y = pd.Series(california.target, name='target')\n",
    "\n",
    "\n"
   ]
  },
  {
   "cell_type": "markdown",
   "id": "abcd57bd-dff0-46dd-9b70-bb2a434405ac",
   "metadata": {
    "id": "abcd57bd-dff0-46dd-9b70-bb2a434405ac"
   },
   "source": [
    "*The California housing dataset is loaded into a variable.\n",
    "\n",
    "The feature data is converted into a DataFrame with appropriate column names using Pandas.\n",
    "\n",
    "The target data is converted into a Series using Pandas.*"
   ]
  },
  {
   "cell_type": "code",
   "execution_count": 3,
   "id": "9e71799a-6fdb-449c-805a-50557bbbfbf7",
   "metadata": {
    "id": "9e71799a-6fdb-449c-805a-50557bbbfbf7",
    "outputId": "8cc3aa83-e312-44ce-efe8-f6057b8c1cef"
   },
   "outputs": [
    {
     "data": {
      "text/html": [
       "<div>\n",
       "<style scoped>\n",
       "    .dataframe tbody tr th:only-of-type {\n",
       "        vertical-align: middle;\n",
       "    }\n",
       "\n",
       "    .dataframe tbody tr th {\n",
       "        vertical-align: top;\n",
       "    }\n",
       "\n",
       "    .dataframe thead th {\n",
       "        text-align: right;\n",
       "    }\n",
       "</style>\n",
       "<table border=\"1\" class=\"dataframe\">\n",
       "  <thead>\n",
       "    <tr style=\"text-align: right;\">\n",
       "      <th></th>\n",
       "      <th>MedInc</th>\n",
       "      <th>HouseAge</th>\n",
       "      <th>AveRooms</th>\n",
       "      <th>AveBedrms</th>\n",
       "      <th>Population</th>\n",
       "      <th>AveOccup</th>\n",
       "      <th>Latitude</th>\n",
       "      <th>Longitude</th>\n",
       "    </tr>\n",
       "  </thead>\n",
       "  <tbody>\n",
       "    <tr>\n",
       "      <th>0</th>\n",
       "      <td>8.3252</td>\n",
       "      <td>41.0</td>\n",
       "      <td>6.984127</td>\n",
       "      <td>1.023810</td>\n",
       "      <td>322.0</td>\n",
       "      <td>2.555556</td>\n",
       "      <td>37.88</td>\n",
       "      <td>-122.23</td>\n",
       "    </tr>\n",
       "    <tr>\n",
       "      <th>1</th>\n",
       "      <td>8.3014</td>\n",
       "      <td>21.0</td>\n",
       "      <td>6.238137</td>\n",
       "      <td>0.971880</td>\n",
       "      <td>2401.0</td>\n",
       "      <td>2.109842</td>\n",
       "      <td>37.86</td>\n",
       "      <td>-122.22</td>\n",
       "    </tr>\n",
       "    <tr>\n",
       "      <th>2</th>\n",
       "      <td>7.2574</td>\n",
       "      <td>52.0</td>\n",
       "      <td>8.288136</td>\n",
       "      <td>1.073446</td>\n",
       "      <td>496.0</td>\n",
       "      <td>2.802260</td>\n",
       "      <td>37.85</td>\n",
       "      <td>-122.24</td>\n",
       "    </tr>\n",
       "    <tr>\n",
       "      <th>3</th>\n",
       "      <td>5.6431</td>\n",
       "      <td>52.0</td>\n",
       "      <td>5.817352</td>\n",
       "      <td>1.073059</td>\n",
       "      <td>558.0</td>\n",
       "      <td>2.547945</td>\n",
       "      <td>37.85</td>\n",
       "      <td>-122.25</td>\n",
       "    </tr>\n",
       "    <tr>\n",
       "      <th>4</th>\n",
       "      <td>3.8462</td>\n",
       "      <td>52.0</td>\n",
       "      <td>6.281853</td>\n",
       "      <td>1.081081</td>\n",
       "      <td>565.0</td>\n",
       "      <td>2.181467</td>\n",
       "      <td>37.85</td>\n",
       "      <td>-122.25</td>\n",
       "    </tr>\n",
       "    <tr>\n",
       "      <th>...</th>\n",
       "      <td>...</td>\n",
       "      <td>...</td>\n",
       "      <td>...</td>\n",
       "      <td>...</td>\n",
       "      <td>...</td>\n",
       "      <td>...</td>\n",
       "      <td>...</td>\n",
       "      <td>...</td>\n",
       "    </tr>\n",
       "    <tr>\n",
       "      <th>20635</th>\n",
       "      <td>1.5603</td>\n",
       "      <td>25.0</td>\n",
       "      <td>5.045455</td>\n",
       "      <td>1.133333</td>\n",
       "      <td>845.0</td>\n",
       "      <td>2.560606</td>\n",
       "      <td>39.48</td>\n",
       "      <td>-121.09</td>\n",
       "    </tr>\n",
       "    <tr>\n",
       "      <th>20636</th>\n",
       "      <td>2.5568</td>\n",
       "      <td>18.0</td>\n",
       "      <td>6.114035</td>\n",
       "      <td>1.315789</td>\n",
       "      <td>356.0</td>\n",
       "      <td>3.122807</td>\n",
       "      <td>39.49</td>\n",
       "      <td>-121.21</td>\n",
       "    </tr>\n",
       "    <tr>\n",
       "      <th>20637</th>\n",
       "      <td>1.7000</td>\n",
       "      <td>17.0</td>\n",
       "      <td>5.205543</td>\n",
       "      <td>1.120092</td>\n",
       "      <td>1007.0</td>\n",
       "      <td>2.325635</td>\n",
       "      <td>39.43</td>\n",
       "      <td>-121.22</td>\n",
       "    </tr>\n",
       "    <tr>\n",
       "      <th>20638</th>\n",
       "      <td>1.8672</td>\n",
       "      <td>18.0</td>\n",
       "      <td>5.329513</td>\n",
       "      <td>1.171920</td>\n",
       "      <td>741.0</td>\n",
       "      <td>2.123209</td>\n",
       "      <td>39.43</td>\n",
       "      <td>-121.32</td>\n",
       "    </tr>\n",
       "    <tr>\n",
       "      <th>20639</th>\n",
       "      <td>2.3886</td>\n",
       "      <td>16.0</td>\n",
       "      <td>5.254717</td>\n",
       "      <td>1.162264</td>\n",
       "      <td>1387.0</td>\n",
       "      <td>2.616981</td>\n",
       "      <td>39.37</td>\n",
       "      <td>-121.24</td>\n",
       "    </tr>\n",
       "  </tbody>\n",
       "</table>\n",
       "<p>20640 rows × 8 columns</p>\n",
       "</div>"
      ],
      "text/plain": [
       "       MedInc  HouseAge  AveRooms  AveBedrms  Population  AveOccup  Latitude  \\\n",
       "0      8.3252      41.0  6.984127   1.023810       322.0  2.555556     37.88   \n",
       "1      8.3014      21.0  6.238137   0.971880      2401.0  2.109842     37.86   \n",
       "2      7.2574      52.0  8.288136   1.073446       496.0  2.802260     37.85   \n",
       "3      5.6431      52.0  5.817352   1.073059       558.0  2.547945     37.85   \n",
       "4      3.8462      52.0  6.281853   1.081081       565.0  2.181467     37.85   \n",
       "...       ...       ...       ...        ...         ...       ...       ...   \n",
       "20635  1.5603      25.0  5.045455   1.133333       845.0  2.560606     39.48   \n",
       "20636  2.5568      18.0  6.114035   1.315789       356.0  3.122807     39.49   \n",
       "20637  1.7000      17.0  5.205543   1.120092      1007.0  2.325635     39.43   \n",
       "20638  1.8672      18.0  5.329513   1.171920       741.0  2.123209     39.43   \n",
       "20639  2.3886      16.0  5.254717   1.162264      1387.0  2.616981     39.37   \n",
       "\n",
       "       Longitude  \n",
       "0        -122.23  \n",
       "1        -122.22  \n",
       "2        -122.24  \n",
       "3        -122.25  \n",
       "4        -122.25  \n",
       "...          ...  \n",
       "20635    -121.09  \n",
       "20636    -121.21  \n",
       "20637    -121.22  \n",
       "20638    -121.32  \n",
       "20639    -121.24  \n",
       "\n",
       "[20640 rows x 8 columns]"
      ]
     },
     "execution_count": 3,
     "metadata": {},
     "output_type": "execute_result"
    }
   ],
   "source": [
    "X"
   ]
  },
  {
   "cell_type": "code",
   "execution_count": 4,
   "id": "b91858d7-3428-40f5-91d6-e705d8d60459",
   "metadata": {
    "id": "b91858d7-3428-40f5-91d6-e705d8d60459",
    "outputId": "5d293855-35a4-4b83-9c71-a66c1b55bebb"
   },
   "outputs": [
    {
     "data": {
      "text/plain": [
       "0        4.526\n",
       "1        3.585\n",
       "2        3.521\n",
       "3        3.413\n",
       "4        3.422\n",
       "         ...  \n",
       "20635    0.781\n",
       "20636    0.771\n",
       "20637    0.923\n",
       "20638    0.847\n",
       "20639    0.894\n",
       "Name: target, Length: 20640, dtype: float64"
      ]
     },
     "execution_count": 4,
     "metadata": {},
     "output_type": "execute_result"
    }
   ],
   "source": [
    "y"
   ]
  },
  {
   "cell_type": "markdown",
   "id": "d2d49bd1-6ebf-40d8-8ab9-c00ad9c6cd65",
   "metadata": {
    "id": "d2d49bd1-6ebf-40d8-8ab9-c00ad9c6cd65"
   },
   "source": [
    " **Splitting the Dataset**"
   ]
  },
  {
   "cell_type": "code",
   "execution_count": 5,
   "id": "2e81da0d-8f1d-4361-8316-7a6859ac5372",
   "metadata": {
    "id": "2e81da0d-8f1d-4361-8316-7a6859ac5372"
   },
   "outputs": [],
   "source": [
    "X_train, X_test, y_train, y_test = train_test_split(X, y, test_size=0.2, random_state=42)\n"
   ]
  },
  {
   "cell_type": "markdown",
   "id": "4aef68ad-72d2-487a-a46e-9d64b4c79849",
   "metadata": {
    "id": "4aef68ad-72d2-487a-a46e-9d64b4c79849"
   },
   "source": [
    "*The dataset is split into training and testing sets, with 80% of the data used for training and 20% for testing.\n",
    "\n",
    "A random state is set to ensure reproducibility.\n",
    "\n",
    "**Using random_state=42 ensures**:\n",
    "\n",
    "Reproducibility: The data split is consistent across runs.\n",
    "\n",
    "Convention: 42 is commonly used as a standard reference value.\n",
    "\n",
    "Debugging: Easier to compare results and debug.*"
   ]
  },
  {
   "cell_type": "markdown",
   "id": "84a65468-683e-4ddc-8bb7-94826510608c",
   "metadata": {
    "id": "84a65468-683e-4ddc-8bb7-94826510608c"
   },
   "source": [
    "**Training a Model**"
   ]
  },
  {
   "cell_type": "code",
   "execution_count": 6,
   "id": "d0f30bce-a963-4be0-bb37-0ab6edcef7ab",
   "metadata": {
    "id": "d0f30bce-a963-4be0-bb37-0ab6edcef7ab",
    "outputId": "0b6fce14-97e5-465d-bdaf-b7285bcf3ee6"
   },
   "outputs": [
    {
     "data": {
      "text/html": [
       "<style>#sk-container-id-1 {color: black;background-color: white;}#sk-container-id-1 pre{padding: 0;}#sk-container-id-1 div.sk-toggleable {background-color: white;}#sk-container-id-1 label.sk-toggleable__label {cursor: pointer;display: block;width: 100%;margin-bottom: 0;padding: 0.3em;box-sizing: border-box;text-align: center;}#sk-container-id-1 label.sk-toggleable__label-arrow:before {content: \"▸\";float: left;margin-right: 0.25em;color: #696969;}#sk-container-id-1 label.sk-toggleable__label-arrow:hover:before {color: black;}#sk-container-id-1 div.sk-estimator:hover label.sk-toggleable__label-arrow:before {color: black;}#sk-container-id-1 div.sk-toggleable__content {max-height: 0;max-width: 0;overflow: hidden;text-align: left;background-color: #f0f8ff;}#sk-container-id-1 div.sk-toggleable__content pre {margin: 0.2em;color: black;border-radius: 0.25em;background-color: #f0f8ff;}#sk-container-id-1 input.sk-toggleable__control:checked~div.sk-toggleable__content {max-height: 200px;max-width: 100%;overflow: auto;}#sk-container-id-1 input.sk-toggleable__control:checked~label.sk-toggleable__label-arrow:before {content: \"▾\";}#sk-container-id-1 div.sk-estimator input.sk-toggleable__control:checked~label.sk-toggleable__label {background-color: #d4ebff;}#sk-container-id-1 div.sk-label input.sk-toggleable__control:checked~label.sk-toggleable__label {background-color: #d4ebff;}#sk-container-id-1 input.sk-hidden--visually {border: 0;clip: rect(1px 1px 1px 1px);clip: rect(1px, 1px, 1px, 1px);height: 1px;margin: -1px;overflow: hidden;padding: 0;position: absolute;width: 1px;}#sk-container-id-1 div.sk-estimator {font-family: monospace;background-color: #f0f8ff;border: 1px dotted black;border-radius: 0.25em;box-sizing: border-box;margin-bottom: 0.5em;}#sk-container-id-1 div.sk-estimator:hover {background-color: #d4ebff;}#sk-container-id-1 div.sk-parallel-item::after {content: \"\";width: 100%;border-bottom: 1px solid gray;flex-grow: 1;}#sk-container-id-1 div.sk-label:hover label.sk-toggleable__label {background-color: #d4ebff;}#sk-container-id-1 div.sk-serial::before {content: \"\";position: absolute;border-left: 1px solid gray;box-sizing: border-box;top: 0;bottom: 0;left: 50%;z-index: 0;}#sk-container-id-1 div.sk-serial {display: flex;flex-direction: column;align-items: center;background-color: white;padding-right: 0.2em;padding-left: 0.2em;position: relative;}#sk-container-id-1 div.sk-item {position: relative;z-index: 1;}#sk-container-id-1 div.sk-parallel {display: flex;align-items: stretch;justify-content: center;background-color: white;position: relative;}#sk-container-id-1 div.sk-item::before, #sk-container-id-1 div.sk-parallel-item::before {content: \"\";position: absolute;border-left: 1px solid gray;box-sizing: border-box;top: 0;bottom: 0;left: 50%;z-index: -1;}#sk-container-id-1 div.sk-parallel-item {display: flex;flex-direction: column;z-index: 1;position: relative;background-color: white;}#sk-container-id-1 div.sk-parallel-item:first-child::after {align-self: flex-end;width: 50%;}#sk-container-id-1 div.sk-parallel-item:last-child::after {align-self: flex-start;width: 50%;}#sk-container-id-1 div.sk-parallel-item:only-child::after {width: 0;}#sk-container-id-1 div.sk-dashed-wrapped {border: 1px dashed gray;margin: 0 0.4em 0.5em 0.4em;box-sizing: border-box;padding-bottom: 0.4em;background-color: white;}#sk-container-id-1 div.sk-label label {font-family: monospace;font-weight: bold;display: inline-block;line-height: 1.2em;}#sk-container-id-1 div.sk-label-container {text-align: center;}#sk-container-id-1 div.sk-container {/* jupyter's `normalize.less` sets `[hidden] { display: none; }` but bootstrap.min.css set `[hidden] { display: none !important; }` so we also need the `!important` here to be able to override the default hidden behavior on the sphinx rendered scikit-learn.org. See: https://github.com/scikit-learn/scikit-learn/issues/21755 */display: inline-block !important;position: relative;}#sk-container-id-1 div.sk-text-repr-fallback {display: none;}</style><div id=\"sk-container-id-1\" class=\"sk-top-container\"><div class=\"sk-text-repr-fallback\"><pre>LinearRegression()</pre><b>In a Jupyter environment, please rerun this cell to show the HTML representation or trust the notebook. <br />On GitHub, the HTML representation is unable to render, please try loading this page with nbviewer.org.</b></div><div class=\"sk-container\" hidden><div class=\"sk-item\"><div class=\"sk-estimator sk-toggleable\"><input class=\"sk-toggleable__control sk-hidden--visually\" id=\"sk-estimator-id-1\" type=\"checkbox\" checked><label for=\"sk-estimator-id-1\" class=\"sk-toggleable__label sk-toggleable__label-arrow\">LinearRegression</label><div class=\"sk-toggleable__content\"><pre>LinearRegression()</pre></div></div></div></div></div>"
      ],
      "text/plain": [
       "LinearRegression()"
      ]
     },
     "execution_count": 6,
     "metadata": {},
     "output_type": "execute_result"
    }
   ],
   "source": [
    "model = LinearRegression()\n",
    "model.fit(X_train, y_train)\n"
   ]
  },
  {
   "cell_type": "markdown",
   "id": "f451efa2-3825-46df-af57-041aaf229a37",
   "metadata": {
    "id": "f451efa2-3825-46df-af57-041aaf229a37"
   },
   "source": [
    "*A linear regression model is instantiated and trained using the training data.*"
   ]
  },
  {
   "cell_type": "markdown",
   "id": "ea99ee3a-abf0-406c-8770-34f372ad90b3",
   "metadata": {
    "id": "ea99ee3a-abf0-406c-8770-34f372ad90b3"
   },
   "source": [
    "**Making Predictions**"
   ]
  },
  {
   "cell_type": "code",
   "execution_count": 7,
   "id": "cafc6939-bfdc-447a-a748-4a4812ee6c30",
   "metadata": {
    "id": "cafc6939-bfdc-447a-a748-4a4812ee6c30"
   },
   "outputs": [],
   "source": [
    "y_pred = model.predict(X_test)\n"
   ]
  },
  {
   "cell_type": "markdown",
   "id": "26b77326-f2e8-4d91-8264-3d27265b10bf",
   "metadata": {
    "id": "26b77326-f2e8-4d91-8264-3d27265b10bf"
   },
   "source": [
    "*The trained model makes predictions on the test data.*"
   ]
  },
  {
   "cell_type": "markdown",
   "id": "bc8ffe97-4cca-47b0-88d1-39e1f62f1958",
   "metadata": {
    "id": "bc8ffe97-4cca-47b0-88d1-39e1f62f1958"
   },
   "source": [
    "**Evaluating the Model**\n"
   ]
  },
  {
   "cell_type": "code",
   "execution_count": 8,
   "id": "312a3451-2e29-4ac9-a7a7-589b23a204f4",
   "metadata": {
    "id": "312a3451-2e29-4ac9-a7a7-589b23a204f4",
    "outputId": "dcc5fec4-812c-4a04-bdee-18f07f24cae2"
   },
   "outputs": [
    {
     "name": "stdout",
     "output_type": "stream",
     "text": [
      "Mean Squared Error: 0.5558915986952442\n"
     ]
    }
   ],
   "source": [
    "mse = mean_squared_error(y_test, y_pred)\n",
    "print(f'Mean Squared Error: {mse}')\n"
   ]
  },
  {
   "cell_type": "markdown",
   "id": "9cf96c8d-fcea-4df0-aad2-e974d500ddb8",
   "metadata": {
    "id": "9cf96c8d-fcea-4df0-aad2-e974d500ddb8"
   },
   "source": [
    "*The performance of the model is evaluated using the mean squared error metric, which measures the average squared difference between predicted and actual values.*\n",
    "\n",
    "\n",
    "\n",
    "\n"
   ]
  },
  {
   "cell_type": "markdown",
   "id": "02ccd46d-08a9-4a45-b283-aee0b38561a4",
   "metadata": {
    "id": "02ccd46d-08a9-4a45-b283-aee0b38561a4"
   },
   "source": [
    "**Comparing Test Set with the Model's Prediction**"
   ]
  },
  {
   "cell_type": "code",
   "execution_count": 9,
   "id": "74725f6f-1dff-4330-a254-635c6d80a0af",
   "metadata": {
    "id": "74725f6f-1dff-4330-a254-635c6d80a0af",
    "outputId": "2f8332bd-1cbb-405d-fbfc-7a8c2dc00de8"
   },
   "outputs": [
    {
     "name": "stdout",
     "output_type": "stream",
     "text": [
      "20046    0.47700\n",
      "3024     0.45800\n",
      "15663    5.00001\n",
      "20484    2.18600\n",
      "9814     2.78000\n",
      "Name: target, dtype: float64\n"
     ]
    }
   ],
   "source": [
    "print(y_test.head())\n"
   ]
  },
  {
   "cell_type": "markdown",
   "id": "fb288f30-c566-4aa2-8fbc-240e9cb25a4e",
   "metadata": {
    "id": "fb288f30-c566-4aa2-8fbc-240e9cb25a4e"
   },
   "source": [
    "*This will show you the first few actual median house values from the test set that the model's predictions (y_pred) are being compared against.*\n",
    "\n",
    "\n",
    "\n",
    "\n",
    "\n"
   ]
  }
 ],
 "metadata": {
  "colab": {
   "provenance": []
  },
  "kernelspec": {
   "display_name": "Python 3 (ipykernel)",
   "language": "python",
   "name": "python3"
  },
  "language_info": {
   "codemirror_mode": {
    "name": "ipython",
    "version": 3
   },
   "file_extension": ".py",
   "mimetype": "text/x-python",
   "name": "python",
   "nbconvert_exporter": "python",
   "pygments_lexer": "ipython3",
   "version": "3.10.9"
  }
 },
 "nbformat": 4,
 "nbformat_minor": 5
}
